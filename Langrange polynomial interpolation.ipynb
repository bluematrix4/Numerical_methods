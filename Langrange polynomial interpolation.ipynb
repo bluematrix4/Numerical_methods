{
 "cells": [
  {
   "cell_type": "code",
   "execution_count": 1,
   "id": "31c5bfab-26ef-4b97-8cfb-26073647bbba",
   "metadata": {},
   "outputs": [],
   "source": [
    "import IPython.display as disp\n",
    "import numpy as np\n",
    "import sympy as sp\n",
    "x=sp.Symbol('x')\n",
    "a,b=[],[]"
   ]
  },
  {
   "cell_type": "code",
   "execution_count": null,
   "id": "cfb999ad-4015-406b-9c86-713834963104",
   "metadata": {},
   "outputs": [],
   "source": [
    "a,b=list(a),list(b)\n",
    "k=int(input(\"No. of elements- \"))\n",
    "for j in range(k):\n",
    "    m=float(input(\"x: \"))\n",
    "    n=float(input(\"y: \"))\n",
    "    a.append(n)\n",
    "    b.append(m)"
   ]
  },
  {
   "cell_type": "code",
   "execution_count": null,
   "id": "d11718bf-b11c-4bfc-b3b8-fe9dcb0c50cd",
   "metadata": {},
   "outputs": [],
   "source": [
    "a=np.array(a)\n",
    "b=np.array(b)\n",
    "n=float(input(\"hello:  \"))\n",
    "y=0\n",
    "for i in range(len(a)):\n",
    "    y=y + (np.prod((x-b)[a!=a[i]])/np.prod((b[i]-b)[a!=a[i]]))*a[i]\n",
    "disp.display(sp.expand(y))\n",
    "f=sp.lambdify(x,y)\n",
    "print(f(n))"
   ]
  }
 ],
 "metadata": {
  "celltoolbar": "Attachments",
  "kernelspec": {
   "display_name": "Python 3.9.12 ('base')",
   "language": "python",
   "name": "python3"
  },
  "language_info": {
   "codemirror_mode": {
    "name": "ipython",
    "version": 3
   },
   "file_extension": ".py",
   "mimetype": "text/x-python",
   "name": "python",
   "nbconvert_exporter": "python",
   "pygments_lexer": "ipython3",
   "version": "3.9.12"
  },
  "vscode": {
   "interpreter": {
    "hash": "dc07d24e2f18896857f0b2a651fe84ba40ce7b297e58d8804a308c8039f752a6"
   }
  }
 },
 "nbformat": 4,
 "nbformat_minor": 5
}
