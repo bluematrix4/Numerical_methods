{
 "cells": [
  {
   "cell_type": "code",
   "execution_count": 8,
   "id": "31c5bfab-26ef-4b97-8cfb-26073647bbba",
   "metadata": {},
   "outputs": [],
   "source": [
    "import IPython.display as disp\n",
    "import numpy as np\n",
    "import sympy as sp\n",
    "x=sp.Symbol('x')\n",
    "b = np.array(list(map(float, input(\"Enter values of x: \").split())))\n",
    "a = np.array(list(map(float, input(\"Enter values of y: \").split())))"
   ]
  },
  {
   "cell_type": "code",
   "execution_count": 9,
   "id": "d11718bf-b11c-4bfc-b3b8-fe9dcb0c50cd",
   "metadata": {},
   "outputs": [
    {
     "data": {
      "text/latex": [
       "$\\displaystyle - 4.44089209850063 \\cdot 10^{-16} x^{4} + 0.999999999999943 x^{2}$"
      ],
      "text/plain": [
       "-4.44089209850063e-16*x**4 + 0.999999999999943*x**2"
      ]
     },
     "metadata": {},
     "output_type": "display_data"
    },
    {
     "name": "stdout",
     "output_type": "stream",
     "text": [
      "21.160000000000004\n"
     ]
    }
   ],
   "source": [
    "n=float(input(\"hello:  \"))\n",
    "y=0\n",
    "for i in range(len(a)):\n",
    "    y=y + (np.prod((x-b)[a!=a[i]])/np.prod((b[i]-b)[a!=a[i]]))*a[i]\n",
    "disp.display(sp.expand(y))\n",
    "f=sp.lambdify(x,y)\n",
    "print(f(n))"
   ]
  }
 ],
 "metadata": {
  "celltoolbar": "Attachments",
  "kernelspec": {
   "display_name": "Python 3.11.0 64-bit",
   "language": "python",
   "name": "python3"
  },
  "language_info": {
   "codemirror_mode": {
    "name": "ipython",
    "version": 3
   },
   "file_extension": ".py",
   "mimetype": "text/x-python",
   "name": "python",
   "nbconvert_exporter": "python",
   "pygments_lexer": "ipython3",
   "version": "3.11.0"
  },
  "vscode": {
   "interpreter": {
    "hash": "5238573367df39f7286bb46f9ff5f08f63a01a80960060ce41e3c79b190280fa"
   }
  }
 },
 "nbformat": 4,
 "nbformat_minor": 5
}
